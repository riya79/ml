{
 "cells": [
  {
   "cell_type": "markdown",
   "metadata": {},
   "source": [
    "\n",
    "\n",
    "## Project - Finance Credit card\n",
    "\n",
    "###  Predict whether a transaction is normal transaction or fraud .\n",
    "## Project Steps Followed\n",
    "\n",
    "\n",
    "### Step 1 : Reading and understanding of data\n",
    "\n",
    "### Step 2 : Data cleaning and Preparation\n",
    "\n",
    "### Step 3 : Visualizing the data\n",
    "\n",
    "### Step 4 : Train-Test Split and feature scaling\n",
    "\n",
    "### Step 5 : Model Building\n",
    "\n"
   ]
  },
  {
   "cell_type": "markdown",
   "metadata": {},
   "source": [
    "# Step 1 : Reading and understanding of data"
   ]
  },
  {
   "cell_type": "code",
   "execution_count": null,
   "metadata": {
    "execution": {
     "iopub.execute_input": "2023-09-13T05:59:53.360290Z",
     "iopub.status.busy": "2023-09-13T05:59:53.359758Z",
     "iopub.status.idle": "2023-09-13T05:59:53.375648Z",
     "shell.execute_reply": "2023-09-13T05:59:53.374225Z",
     "shell.execute_reply.started": "2023-09-13T05:59:53.360246Z"
    }
   },
   "outputs": [],
   "source": [
    "import pandas as pd\n",
    "import numpy as np\n",
    "import matplotlib.pyplot as plt\n",
    "import seaborn as sns\n",
    "%matplotlib inline"
   ]
  },
  {
   "cell_type": "code",
   "execution_count": null,
   "metadata": {
    "execution": {
     "iopub.execute_input": "2023-09-13T05:59:53.379407Z",
     "iopub.status.busy": "2023-09-13T05:59:53.378582Z",
     "iopub.status.idle": "2023-09-13T05:59:53.394138Z",
     "shell.execute_reply": "2023-09-13T05:59:53.392711Z",
     "shell.execute_reply.started": "2023-09-13T05:59:53.379349Z"
    }
   },
   "outputs": [],
   "source": [
    "df=pd.read_csv(\"creditcard.csv\")\n",
    "df.head()"
   ]
  },
  {
   "cell_type": "markdown",
   "metadata": {},
   "source": [
    "# Exploratory Data Analysis"
   ]
  },
  {
   "cell_type": "code",
   "execution_count": null,
   "metadata": {
    "execution": {
     "iopub.execute_input": "2023-09-13T05:59:53.433426Z",
     "iopub.status.busy": "2023-09-13T05:59:53.432571Z",
     "iopub.status.idle": "2023-09-13T05:59:53.442909Z",
     "shell.execute_reply": "2023-09-13T05:59:53.440001Z",
     "shell.execute_reply.started": "2023-09-13T05:59:53.433380Z"
    }
   },
   "outputs": [],
   "source": [
    "df.nunique()"
   ]
  },
  {
   "cell_type": "code",
   "execution_count": null,
   "metadata": {
    "execution": {
     "iopub.execute_input": "2023-09-13T05:59:53.445942Z",
     "iopub.status.busy": "2023-09-13T05:59:53.444738Z",
     "iopub.status.idle": "2023-09-13T05:59:53.465666Z",
     "shell.execute_reply": "2023-09-13T05:59:53.464203Z",
     "shell.execute_reply.started": "2023-09-13T05:59:53.445897Z"
    }
   },
   "outputs": [],
   "source": [
    "# getting basic data info\n",
    "\n",
    "df.info()"
   ]
  },
  {
   "cell_type": "code",
   "execution_count": null,
   "metadata": {
    "execution": {
     "iopub.execute_input": "2023-09-13T05:59:53.469033Z",
     "iopub.status.busy": "2023-09-13T05:59:53.467634Z",
     "iopub.status.idle": "2023-09-13T05:59:53.515689Z",
     "shell.execute_reply": "2023-09-13T05:59:53.514494Z",
     "shell.execute_reply.started": "2023-09-13T05:59:53.468986Z"
    }
   },
   "outputs": [],
   "source": [
    "# getting basic statisics for our data, as all the columns are of numerical category\n",
    "df.describe()"
   ]
  },
  {
   "cell_type": "code",
   "execution_count": null,
   "metadata": {
    "execution": {
     "iopub.execute_input": "2023-09-13T05:59:53.518928Z",
     "iopub.status.busy": "2023-09-13T05:59:53.518023Z",
     "iopub.status.idle": "2023-09-13T05:59:53.535166Z",
     "shell.execute_reply": "2023-09-13T05:59:53.533562Z",
     "shell.execute_reply.started": "2023-09-13T05:59:53.518882Z"
    }
   },
   "outputs": [],
   "source": [
    "# checking shape of dataframe\n",
    "df.shape"
   ]
  },
  {
   "cell_type": "markdown",
   "metadata": {},
   "source": [
    "# Step 2 : Data cleaning and Preparation"
   ]
  },
  {
   "cell_type": "code",
   "execution_count": null,
   "metadata": {
    "execution": {
     "iopub.execute_input": "2023-09-13T05:59:53.547232Z",
     "iopub.status.busy": "2023-09-13T05:59:53.537400Z",
     "iopub.status.idle": "2023-09-13T05:59:53.570143Z",
     "shell.execute_reply": "2023-09-13T05:59:53.568369Z",
     "shell.execute_reply.started": "2023-09-13T05:59:53.547129Z"
    }
   },
   "outputs": [],
   "source": [
    "# checking for null vlaues\n",
    "df.isna().sum()"
   ]
  },
  {
   "cell_type": "markdown",
   "metadata": {},
   "source": [
    "# Step 3 : Visualizing the data"
   ]
  },
  {
   "cell_type": "code",
   "execution_count": null,
   "metadata": {
    "execution": {
     "iopub.execute_input": "2023-09-13T05:59:53.573573Z",
     "iopub.status.busy": "2023-09-13T05:59:53.572625Z",
     "iopub.status.idle": "2023-09-13T06:00:01.750733Z",
     "shell.execute_reply": "2023-09-13T06:00:01.749422Z",
     "shell.execute_reply.started": "2023-09-13T05:59:53.573523Z"
    }
   },
   "outputs": [],
   "source": [
    "# creating a pair plot to visualize realtionship between all the columns at once\n",
    "sns.pairplot(df, diag_kind='kde')"
   ]
  },
  {
   "cell_type": "code",
   "execution_count": null,
   "metadata": {
    "execution": {
     "iopub.execute_input": "2023-09-13T06:00:01.757658Z",
     "iopub.status.busy": "2023-09-13T06:00:01.756248Z",
     "iopub.status.idle": "2023-09-13T06:00:02.542645Z",
     "shell.execute_reply": "2023-09-13T06:00:02.539940Z",
     "shell.execute_reply.started": "2023-09-13T06:00:01.757599Z"
    }
   },
   "outputs": [],
   "source": [
    "# checking for correlation\n",
    "print(df.corr())\n",
    "sns.heatmap(df.corr(),annot=True)"
   ]
  },
  {
   "cell_type": "code",
   "execution_count": null,
   "metadata": {},
   "outputs": [],
   "source": [
    "x = df[['Time', 'V1', 'V2', 'V3', 'V4', 'V5', 'V6', 'V7', 'V8', 'V9', 'V21', 'V22', 'V23', 'V24', 'V25', 'V26', 'V27', 'V28', 'Amount']]\n",
    "y = df['Class']"
   ]
  },
  {
   "cell_type": "code",
   "execution_count": null,
   "metadata": {},
   "outputs": [],
   "source": [
    "x.info()"
   ]
  },
  {
   "cell_type": "code",
   "execution_count": null,
   "metadata": {},
   "outputs": [],
   "source": [
    "y.unique()"
   ]
  },
  {
   "cell_type": "markdown",
   "metadata": {},
   "source": [
    "# Step 5 : Train-Test Split and feature scaling"
   ]
  },
  {
   "cell_type": "code",
   "execution_count": null,
   "metadata": {},
   "outputs": [],
   "source": [
    "x.shape"
   ]
  },
  {
   "cell_type": "code",
   "execution_count": null,
   "metadata": {},
   "outputs": [],
   "source": [
    "y.shape"
   ]
  },
  {
   "cell_type": "code",
   "execution_count": null,
   "metadata": {},
   "outputs": [],
   "source": [
    "from sklearn.model_selection import train_test_split"
   ]
  },
  {
   "cell_type": "code",
   "execution_count": null,
   "metadata": {},
   "outputs": [],
   "source": [
    "x_train,x_test, y_train, y_test = train_test_split(x,y,test_size=0.3,random_state=42)\n"
   ]
  },
  {
   "cell_type": "markdown",
   "metadata": {},
   "source": [
    "# Step 6 : Model Building \n",
    "\n",
    "## SVM"
   ]
  },
  {
   "cell_type": "code",
   "execution_count": null,
   "metadata": {
    "execution": {
     "iopub.execute_input": "2023-09-13T06:00:02.974610Z",
     "iopub.status.busy": "2023-09-13T06:00:02.973860Z",
     "iopub.status.idle": "2023-09-13T06:00:02.987250Z",
     "shell.execute_reply": "2023-09-13T06:00:02.986333Z",
     "shell.execute_reply.started": "2023-09-13T06:00:02.974566Z"
    }
   },
   "outputs": [],
   "source": [
    "from sklearn.svm import SVC\n",
    "\n",
    "# Create an SVM classifier\n",
    "svm_classifier = SVC(kernel='rbf', random_state=42)\n",
    "\n",
    "# Train the SVM model\n",
    "svm_classifier.fit(x_train, y_train)"
   ]
  },
  {
   "cell_type": "code",
   "execution_count": null,
   "metadata": {
    "execution": {
     "iopub.execute_input": "2023-09-13T06:00:02.989454Z",
     "iopub.status.busy": "2023-09-13T06:00:02.988512Z",
     "iopub.status.idle": "2023-09-13T06:00:03.070385Z",
     "shell.execute_reply": "2023-09-13T06:00:03.068863Z",
     "shell.execute_reply.started": "2023-09-13T06:00:02.989420Z"
    }
   },
   "outputs": [],
   "source": [
    "from sklearn.metrics import accuracy_score, precision_score, recall_score, f1_score, confusion_matrix\n",
    "\n",
    "# Make predictions on the test data\n",
    "y_pred = svm_classifier.predict(x_test)\n",
    "\n"
   ]
  },
  {
   "cell_type": "code",
   "execution_count": null,
   "metadata": {},
   "outputs": [],
   "source": [
    "# Evaluate the model\n",
    "accuracy = accuracy_score(y_test, y_pred)\n",
    "precision = precision_score(y_test, y_pred)\n",
    "recall = recall_score(y_test, y_pred)\n",
    "f1 = f1_score(y_test, y_pred)\n",
    "conf_matrix = confusion_matrix(y_test, y_pred)\n",
    "\n",
    "print(f\"Accuracy: {accuracy:.2f}\")\n",
    "print(f\"Precision: {precision:.2f}\")\n",
    "print(f\"Recall: {recall:.2f}\")\n",
    "print(f\"F1 Score: {f1:.2f}\")\n",
    "print(\"Confusion Matrix:\\n\", conf_matrix)"
   ]
  },
  {
   "cell_type": "code",
   "execution_count": null,
   "metadata": {},
   "outputs": [],
   "source": []
  }
 ],
 "metadata": {
  "kernelspec": {
   "display_name": "Python 3 (ipykernel)",
   "language": "python",
   "name": "python3"
  },
  "language_info": {
   "codemirror_mode": {
    "name": "ipython",
    "version": 3
   },
   "file_extension": ".py",
   "mimetype": "text/x-python",
   "name": "python",
   "nbconvert_exporter": "python",
   "pygments_lexer": "ipython3",
   "version": "3.11.3"
  }
 },
 "nbformat": 4,
 "nbformat_minor": 4
}
